{
 "cells": [
  {
   "cell_type": "markdown",
   "metadata": {},
   "source": [
    "# Julia: ¿Un mito hecho realidad?\n",
    "![MacDown logo](https://upload.wikimedia.org/wikipedia/commons/thumb/6/69/Julia_prog_language.svg/220px-Julia_prog_language.svg.png)\n",
    "\n",
    "Para los que llevamos varios años desarrollando con diferentes lenguajes de programación, sabemos que existe la creencia de que es muy poco probable que exista un lenguaje dinámico y flexible como Python, y a la vez rápido y eficiente como C++. ¿Pero sí quizás esto fuera solo un mito?\n",
    "\n",
    "Julia promete algo bastante desafiante *Looks like Python, feels like Lisp, runs like Fortran*(Se ve como Python, se siente como Lisp, y funciona como Fortran). \n",
    "Y como soy algo incrédulo quise llevarlo a la práctica para comprobar si esto es real. A continuación conoceremos las características principales de Julia junto a benchmarks contra C++1x, que es unos de los principales lenguajes para programación de alto rendimiento.\n",
    "\n",
    "## Introducción a Julia\n",
    "\n",
    "Julia es un lenguaje dinámico pero que fue diseñado con la eficiencia en mente a diferencia de otros como Python. Su enfoque principal es la computación científica, esto significa que fue diseñado para operaciones matemáticas, típicamente se refiere a computar operaciones intensivas de cálculo numérico(matrices, tensores, etc). Todo lo referente a trabajar con operaciones de álgebra lineal en Julia viene integrado de manera natural, un campo de principal interés seria Machine learning. \n",
    "\n",
    "Y claro, si un lenguaje promete eficiencia debe ser probado en entornos con paralelismo, Julia fue diseñado para trabajar sobre dichos entornos donde por defecto se necesita de paralelismo, para sacar el mayor provecho a todos los núcleos del cpu.\n",
    "\n",
    "## Características básicas\n",
    "\n",
    "Julia es un lenguaje JIT(just in time)[^jit] que le permite compilar en tiempo de ejecución, utiliza LLVM[^llvm] como plataforma de compilación. Esto le permite a Julia ser dinámico sin tener *un consumo excesivo de recursos* como los típicos lenguajes interpretados.\n",
    "\n",
    "### Variables\n",
    "\n",
    "Julia utiliza inferencia de tipos para declarar variables(también se puede asignar el tipo de dato de manera explicita, en algunos casos esto mejora la eficiencia), por ejemplo:\n"
   ]
  },
  {
   "cell_type": "code",
   "execution_count": 10,
   "metadata": {},
   "outputs": [
    {
     "data": {
      "text/plain": [
       "10"
      ]
     },
     "execution_count": 10,
     "metadata": {},
     "output_type": "execute_result"
    }
   ],
   "source": [
    "x = 10\n",
    "x"
   ]
  },
  {
   "cell_type": "code",
   "execution_count": 15,
   "metadata": {},
   "outputs": [
    {
     "data": {
      "text/plain": [
       "10.1"
      ]
     },
     "execution_count": 15,
     "metadata": {},
     "output_type": "execute_result"
    }
   ],
   "source": [
    "y = 10.1\n",
    "y"
   ]
  },
  {
   "cell_type": "markdown",
   "metadata": {},
   "source": [
    "Ahora veamos tipos de datos que son interesante para operaciones matemáticas, números racionales(forma de fracción) y complejos(con su parte real e imaginaria)."
   ]
  },
  {
   "cell_type": "code",
   "execution_count": 16,
   "metadata": {},
   "outputs": [
    {
     "data": {
      "text/plain": [
       "-2//5"
      ]
     },
     "execution_count": 16,
     "metadata": {},
     "output_type": "execute_result"
    }
   ],
   "source": [
    "a = -2//5"
   ]
  },
  {
   "cell_type": "code",
   "execution_count": 27,
   "metadata": {},
   "outputs": [
    {
     "data": {
      "text/plain": [
       "Complex{Float64}"
      ]
     },
     "execution_count": 27,
     "metadata": {},
     "output_type": "execute_result"
    }
   ],
   "source": [
    "b = 2.0 + 5im\n",
    "typeof(b)"
   ]
  },
  {
   "cell_type": "markdown",
   "metadata": {},
   "source": [
    "El `im` se le agrega al final de un número para indicar que se trata de un número complejo.\n",
    "\n",
    "En la siguiente imagen se aprecia el sistema de tipo numéricos de Julia, con sus jerarquías correspondiente, esto lo veremos más adelante en la sección *sistema de tipos*.\n",
    "\n",
    "![number-type-system](number-type-system.png)\n",
    "\n",
    "### Arreglos de multiples dimensiones\n",
    "\n",
    "Una característica destacable de Julia es su manejo con estructuras de múltiples dimensiones, inspirado en lenguajes como Matlab y R es muy simple operar sobre dichas estructuras."
   ]
  },
  {
   "cell_type": "code",
   "execution_count": 28,
   "metadata": {},
   "outputs": [
    {
     "data": {
      "text/plain": [
       "5×5 Array{Float64,2}:\n",
       " 1.0  1.0  1.0  1.0  1.0\n",
       " 1.0  1.0  1.0  1.0  1.0\n",
       " 1.0  1.0  1.0  1.0  1.0\n",
       " 1.0  1.0  1.0  1.0  1.0\n",
       " 1.0  1.0  1.0  1.0  1.0"
      ]
     },
     "execution_count": 28,
     "metadata": {},
     "output_type": "execute_result"
    }
   ],
   "source": [
    "a = ones(5, 5)"
   ]
  },
  {
   "cell_type": "code",
   "execution_count": 29,
   "metadata": {},
   "outputs": [
    {
     "data": {
      "text/plain": [
       "5×5 Array{Float64,2}:\n",
       " 5.0  5.0  5.0  5.0  5.0\n",
       " 5.0  5.0  5.0  5.0  5.0\n",
       " 5.0  5.0  5.0  5.0  5.0\n",
       " 5.0  5.0  5.0  5.0  5.0\n",
       " 5.0  5.0  5.0  5.0  5.0"
      ]
     },
     "execution_count": 29,
     "metadata": {},
     "output_type": "execute_result"
    }
   ],
   "source": [
    "5a"
   ]
  },
  {
   "cell_type": "code",
   "execution_count": 30,
   "metadata": {},
   "outputs": [
    {
     "data": {
      "text/plain": [
       "5×5 Array{Float64,2}:\n",
       " 6.0  6.0  6.0  6.0  6.0\n",
       " 6.0  6.0  6.0  6.0  6.0\n",
       " 6.0  6.0  6.0  6.0  6.0\n",
       " 6.0  6.0  6.0  6.0  6.0\n",
       " 6.0  6.0  6.0  6.0  6.0"
      ]
     },
     "execution_count": 30,
     "metadata": {},
     "output_type": "execute_result"
    }
   ],
   "source": [
    "5a + 1"
   ]
  },
  {
   "cell_type": "markdown",
   "metadata": {},
   "source": [
    "Algo interesante es que si se antepone un número antes de una variable, se multiplica, según el ejemplo anterior seria lo mismo que escribir `5*a`. Esto permite realizar ecuaciones de manera muy fácil(como veremos en la sección de funciones).\n",
    "\n",
    "Al igual que con Matlab, en Julia se puede cambiar desde un vector columna a vector fila de manera muy simple con el carácter `'` al final de la variable."
   ]
  },
  {
   "cell_type": "code",
   "execution_count": 31,
   "metadata": {},
   "outputs": [
    {
     "data": {
      "text/plain": [
       "5-element Array{Int64,1}:\n",
       " 1\n",
       " 2\n",
       " 3\n",
       " 4\n",
       " 5"
      ]
     },
     "execution_count": 31,
     "metadata": {},
     "output_type": "execute_result"
    }
   ],
   "source": [
    "v = [1,2,3,4,5]"
   ]
  },
  {
   "cell_type": "code",
   "execution_count": 32,
   "metadata": {},
   "outputs": [
    {
     "data": {
      "text/plain": [
       "1×5 RowVector{Int64,Array{Int64,1}}:\n",
       " 1  2  3  4  5"
      ]
     },
     "execution_count": 32,
     "metadata": {},
     "output_type": "execute_result"
    }
   ],
   "source": [
    "v'"
   ]
  },
  {
   "cell_type": "markdown",
   "metadata": {},
   "source": [
    "Para los programadores de Python la compresión de listas es algo que entrega mucha simpleza y flexibilidad(sino se utiliza en exceso) en los programas, igual está incorporado en Julia."
   ]
  },
  {
   "cell_type": "code",
   "execution_count": 33,
   "metadata": {},
   "outputs": [
    {
     "data": {
      "text/plain": [
       "4-element Array{Int64,1}:\n",
       " 1\n",
       " 2\n",
       " 3\n",
       " 4"
      ]
     },
     "execution_count": 33,
     "metadata": {},
     "output_type": "execute_result"
    }
   ],
   "source": [
    "a = [1:4;]"
   ]
  },
  {
   "cell_type": "code",
   "execution_count": 34,
   "metadata": {},
   "outputs": [
    {
     "data": {
      "text/plain": [
       "2-element Array{Int64,1}:\n",
       " 12\n",
       " 20"
      ]
     },
     "execution_count": 34,
     "metadata": {},
     "output_type": "execute_result"
    }
   ],
   "source": [
    "[e+1 for e in a if e % 2 == 0] * 4"
   ]
  },
  {
   "cell_type": "markdown",
   "metadata": {},
   "source": [
    "### Funciones\n",
    "\n",
    "Las funciones son un gran tema en Julia. A diferencia de Python no es necesario ni obligatorio la indentación, sino más bien todos los bloques de código tienen una clausula de cierre *end*. Por ejemplo veamos una simple función a continuación:"
   ]
  },
  {
   "cell_type": "code",
   "execution_count": 40,
   "metadata": {},
   "outputs": [
    {
     "data": {
      "text/plain": [
       "max_number (generic function with 1 method)"
      ]
     },
     "execution_count": 40,
     "metadata": {},
     "output_type": "execute_result"
    }
   ],
   "source": [
    "function max_number(a::Int64, b::Int64)\n",
    "   if(a > b)\n",
    "       println(\"a es $a, por lo tanto es mayor.\")\n",
    "   elseif(b > a)\n",
    "       println(\"b es $b, por lo tanto es mayor.\")\n",
    "   else\n",
    "       println(\"a y b son iguales\")\n",
    "   end\n",
    "end"
   ]
  },
  {
   "cell_type": "code",
   "execution_count": 36,
   "metadata": {},
   "outputs": [
    {
     "name": "stdout",
     "output_type": "stream",
     "text": [
      "a es 10, por lo tanto es mayor.\n"
     ]
    }
   ],
   "source": [
    "max_number(10, 5)"
   ]
  },
  {
   "cell_type": "markdown",
   "metadata": {},
   "source": [
    "Como se puede ver en el código superior, la función creada *max_number* tiene los argumentos con los tipos de datos declarados de manera explicita, lo cual es posible en Julia. Otro detalle es la interpolación en los string, algo similar ocurre en php[^inter-php] para incluir el valor de una variable dentro de un string anteponiendo el símbolo `$` antes del nombre de variable.\n",
    "\n",
    "También es posible crear funciones en una sola linea de manera muy limpia."
   ]
  },
  {
   "cell_type": "code",
   "execution_count": 37,
   "metadata": {},
   "outputs": [
    {
     "data": {
      "text/plain": [
       "f (generic function with 1 method)"
      ]
     },
     "execution_count": 37,
     "metadata": {},
     "output_type": "execute_result"
    }
   ],
   "source": [
    "f(x) = x^2"
   ]
  },
  {
   "cell_type": "code",
   "execution_count": 38,
   "metadata": {},
   "outputs": [
    {
     "data": {
      "text/plain": [
       "100"
      ]
     },
     "execution_count": 38,
     "metadata": {},
     "output_type": "execute_result"
    }
   ],
   "source": [
    "f(10)"
   ]
  },
  {
   "cell_type": "markdown",
   "metadata": {},
   "source": [
    "Otro ejemplo de flexibilidad en la declaración de funciones, es cuando podemos declarar un retorno de múltiples elementos:"
   ]
  },
  {
   "cell_type": "code",
   "execution_count": 39,
   "metadata": {},
   "outputs": [
    {
     "data": {
      "text/plain": [
       "multi_op (generic function with 1 method)"
      ]
     },
     "execution_count": 39,
     "metadata": {},
     "output_type": "execute_result"
    }
   ],
   "source": [
    "function multi_op(a, b)\n",
    "    a * b, a / b, a % b, a ^ b\n",
    "end"
   ]
  },
  {
   "cell_type": "code",
   "execution_count": 41,
   "metadata": {},
   "outputs": [
    {
     "data": {
      "text/plain": [
       "(6, 0.6666666666666666, 2, 8)"
      ]
     },
     "execution_count": 41,
     "metadata": {},
     "output_type": "execute_result"
    }
   ],
   "source": [
    "multi_op(2, 3)"
   ]
  },
  {
   "cell_type": "markdown",
   "metadata": {},
   "source": [
    "En la función *multi_op* la última expresión `a * b, a / b, a % b, a ^ b` es una tupla con 4 elementos, y es valor inferido que retorna la función(sin necesidad de escribir el return), algo similar a como maneja *Scala* los valores de retorno. \n",
    "\n",
    "Julia permite pasar funciones como argumento de otra función(funciones de orden superior)[^fun-ord] como en lenguajes como Python y Haskell, además cada función en Julia es definida como genérica por defecto."
   ]
  },
  {
   "cell_type": "code",
   "execution_count": 42,
   "metadata": {},
   "outputs": [
    {
     "data": {
      "text/plain": [
       "sum_number (generic function with 1 method)"
      ]
     },
     "execution_count": 42,
     "metadata": {},
     "output_type": "execute_result"
    }
   ],
   "source": [
    "sum_number(n) = n > 1 ? sum(n-1) + n : n"
   ]
  },
  {
   "cell_type": "code",
   "execution_count": 43,
   "metadata": {},
   "outputs": [
    {
     "data": {
      "text/plain": [
       "test_sum (generic function with 1 method)"
      ]
     },
     "execution_count": 43,
     "metadata": {},
     "output_type": "execute_result"
    }
   ],
   "source": [
    "function test_sum(f, num)\n",
    "  println(f(num))  \n",
    "end"
   ]
  },
  {
   "cell_type": "code",
   "execution_count": 44,
   "metadata": {},
   "outputs": [
    {
     "name": "stdout",
     "output_type": "stream",
     "text": [
      "19\n"
     ]
    }
   ],
   "source": [
    "test_sum(sum_number, 10)"
   ]
  },
  {
   "cell_type": "markdown",
   "metadata": {},
   "source": [
    "Algo típico en lenguajes funcionales son las operaciones *map* y *filter*, estas son muy simple de utilizar en Julia:"
   ]
  },
  {
   "cell_type": "code",
   "execution_count": 45,
   "metadata": {},
   "outputs": [
    {
     "data": {
      "text/plain": [
       "5-element Array{Int64,1}:\n",
       " 1\n",
       " 2\n",
       " 3\n",
       " 4\n",
       " 5"
      ]
     },
     "execution_count": 45,
     "metadata": {},
     "output_type": "execute_result"
    }
   ],
   "source": [
    "a = [1:5;]"
   ]
  },
  {
   "cell_type": "code",
   "execution_count": 46,
   "metadata": {},
   "outputs": [
    {
     "data": {
      "text/plain": [
       "5-element Array{Float64,1}:\n",
       " 1.0\n",
       " 2.0\n",
       " 3.0\n",
       " 4.0\n",
       " 5.0"
      ]
     },
     "execution_count": 46,
     "metadata": {},
     "output_type": "execute_result"
    }
   ],
   "source": [
    "map(x -> x * 1.0, a)"
   ]
  },
  {
   "cell_type": "code",
   "execution_count": 47,
   "metadata": {},
   "outputs": [
    {
     "data": {
      "text/plain": [
       "2-element Array{Int64,1}:\n",
       " 2\n",
       " 4"
      ]
     },
     "execution_count": 47,
     "metadata": {},
     "output_type": "execute_result"
    }
   ],
   "source": [
    "filter(x -> x % 2 == 0, a)"
   ]
  },
  {
   "cell_type": "markdown",
   "metadata": {},
   "source": [
    "Cabe señalar que las funciones que son parte de Julia y manipulan estructuras de datos son **inmutables**, entonces para el caso de `filter` y `map` si se quiere modificar los elementos se debe agregar el símbolo `!` al final de cada función. Por ejemplo:"
   ]
  },
  {
   "cell_type": "code",
   "execution_count": 48,
   "metadata": {},
   "outputs": [
    {
     "data": {
      "text/plain": [
       "2-element Array{Int64,1}:\n",
       " 2\n",
       " 4"
      ]
     },
     "execution_count": 48,
     "metadata": {},
     "output_type": "execute_result"
    }
   ],
   "source": [
    "filter!(x -> x % 2 == 0, a)"
   ]
  },
  {
   "cell_type": "code",
   "execution_count": 49,
   "metadata": {},
   "outputs": [
    {
     "data": {
      "text/plain": [
       "2-element Array{Int64,1}:\n",
       " 2\n",
       " 4"
      ]
     },
     "execution_count": 49,
     "metadata": {},
     "output_type": "execute_result"
    }
   ],
   "source": [
    "a"
   ]
  },
  {
   "cell_type": "markdown",
   "metadata": {},
   "source": [
    "### Multiple Dispatch\n",
    "\n",
    "Julia tiene una cualidad que lo diferencia de lenguaje como C, Python y Java(que son single dispatch[^single-dis]), y es que tiene lo que se llama *multiple dispatch*[^multiple-dis] algo similar a lo que conocemos como *métodos sobrecargados* en lenguajes orientados a objetos, pero en Julia tienen otro tipo de implementación y objetivo.\n",
    "\n",
    "Esto permite definir una función con un mismo nombre pero con diferente tipos de datos en los argumentos(o cantidad), hasta aquí nada nuevo, pero Julia permite llamar una función desde múltiples lugares sin necesidad de tener un *solicitante* que en otros lenguajes se refiere a la instancia de un objeto, ejemplo `obj_inst.method()` esto provoca que una vez se llame y se ejecute el `method()` vuelve la referencia a la instancia `obj_inst`, esto en Julia no sucede, dado que posee lo que se conoce como *vtable*, una tabla virtual que contiene una lista de funciones con el mismo nombre, que se van añadiendo a medida se define una nueva función, veamos un ejemplo:"
   ]
  },
  {
   "cell_type": "code",
   "execution_count": 50,
   "metadata": {},
   "outputs": [
    {
     "data": {
      "text/plain": [
       "f (generic function with 1 method)"
      ]
     },
     "execution_count": 50,
     "metadata": {},
     "output_type": "execute_result"
    }
   ],
   "source": [
    "f(x) = x * 2"
   ]
  },
  {
   "cell_type": "code",
   "execution_count": 51,
   "metadata": {},
   "outputs": [
    {
     "data": {
      "text/plain": [
       "f (generic function with 2 methods)"
      ]
     },
     "execution_count": 51,
     "metadata": {},
     "output_type": "execute_result"
    }
   ],
   "source": [
    "f(x, y) = x + y"
   ]
  },
  {
   "cell_type": "code",
   "execution_count": 52,
   "metadata": {},
   "outputs": [
    {
     "data": {
      "text/html": [
       "2 methods for generic function <b>f</b>:<ul><li> f(x) at In[50]:1</li> <li> f(x, y) at In[51]:1</li> </ul>"
      ],
      "text/plain": [
       "# 2 methods for generic function \"f\":\n",
       "f(x) in Main at In[50]:1\n",
       "f(x, y) in Main at In[51]:1"
      ]
     },
     "execution_count": 52,
     "metadata": {},
     "output_type": "execute_result"
    }
   ],
   "source": [
    "methods(f)"
   ]
  },
  {
   "cell_type": "code",
   "execution_count": 53,
   "metadata": {},
   "outputs": [
    {
     "data": {
      "text/plain": [
       "20"
      ]
     },
     "execution_count": 53,
     "metadata": {},
     "output_type": "execute_result"
    }
   ],
   "source": [
    "f(10)"
   ]
  },
  {
   "cell_type": "code",
   "execution_count": 54,
   "metadata": {},
   "outputs": [
    {
     "data": {
      "text/plain": [
       "15"
      ]
     },
     "execution_count": 54,
     "metadata": {},
     "output_type": "execute_result"
    }
   ],
   "source": [
    "f(10, 5)"
   ]
  },
  {
   "cell_type": "markdown",
   "metadata": {},
   "source": [
    "La tabla virtual de `f` tiene dos valores con diferentes argumentos:\n",
    "\n",
    "`f(x)` y `f(x, y)`\n",
    "\n",
    "Cada función tiene una tabla asociada con las alternativas de argumentos que tiene dicha función, que se van eligiendo en tiempo de ejecución, sin necesidad de tener algo como un *tipo de instancia de clase* para mantener los métodos asociados a ella. La función **methods** nos permite conocer la lista de argumentos de una función.\n",
    "\n",
    "Otro lenguaje que tiene *multiple dispatch* es Lisp[^julia-mast].  \n",
    "\n",
    "### Meta-programación\n",
    "\n",
    "#### Expresiones\n",
    "\n",
    "La capacidad de definir expresiones es una característica que le da un gran poder a Julia. Por ejemplo si definimos una expresión `(1 + 3 * 5)`, con Julia debemos anteponer el signo `:` para que se asigne como expresión(tipo `Expr`) y no la ejecute:"
   ]
  },
  {
   "cell_type": "code",
   "execution_count": 55,
   "metadata": {},
   "outputs": [
    {
     "data": {
      "text/plain": [
       ":(1 + 3 * 5)"
      ]
     },
     "execution_count": 55,
     "metadata": {},
     "output_type": "execute_result"
    }
   ],
   "source": [
    "a = :(1 + 3 * 5)"
   ]
  },
  {
   "cell_type": "code",
   "execution_count": 56,
   "metadata": {},
   "outputs": [
    {
     "data": {
      "text/plain": [
       "Expr"
      ]
     },
     "execution_count": 56,
     "metadata": {},
     "output_type": "execute_result"
    }
   ],
   "source": [
    "typeof(a)"
   ]
  },
  {
   "cell_type": "code",
   "execution_count": 57,
   "metadata": {},
   "outputs": [
    {
     "name": "stdout",
     "output_type": "stream",
     "text": [
      "Expr\n",
      "  head: Symbol call\n",
      "  args: Array{Any}((3,))\n",
      "    1: Symbol +\n",
      "    2: Int64 1\n",
      "    3: Expr\n",
      "      head: Symbol call\n",
      "      args: Array{Any}((3,))\n",
      "        1: Symbol *\n",
      "        2: Int64 3\n",
      "        3: Int64 5\n",
      "      typ: Any\n",
      "  typ: Any\n"
     ]
    }
   ],
   "source": [
    "dump(a)"
   ]
  },
  {
   "cell_type": "code",
   "execution_count": 58,
   "metadata": {},
   "outputs": [
    {
     "data": {
      "text/plain": [
       "16"
      ]
     },
     "execution_count": 58,
     "metadata": {},
     "output_type": "execute_result"
    }
   ],
   "source": [
    "eval(a)"
   ]
  },
  {
   "cell_type": "markdown",
   "metadata": {},
   "source": [
    "Como se puede apreciar en el código superior se utiliza la función `eval` para evaluar dicha expresión(algo similar a lo que tiene javascript). Otra forma de definir una expresión es utilizando un string como argumento de la función `parse`:"
   ]
  },
  {
   "cell_type": "code",
   "execution_count": 59,
   "metadata": {},
   "outputs": [
    {
     "data": {
      "text/plain": [
       ":(if 10 > 0 # none, line 2:\n",
       "        println(10)\n",
       "    else  # none, line 4:\n",
       "        println(0)\n",
       "    end)"
      ]
     },
     "execution_count": 59,
     "metadata": {},
     "output_type": "execute_result"
    }
   ],
   "source": [
    "e = parse(\"if(10 > 0)\n",
    "                   println(10)\n",
    "                  else\n",
    "                   println(0)\n",
    "                  end\")"
   ]
  },
  {
   "cell_type": "code",
   "execution_count": 60,
   "metadata": {},
   "outputs": [
    {
     "name": "stdout",
     "output_type": "stream",
     "text": [
      "10\n"
     ]
    }
   ],
   "source": [
    "eval(e)"
   ]
  },
  {
   "cell_type": "markdown",
   "metadata": {},
   "source": [
    "\n",
    "Esta característica podría permitir crear *lenguajes de dominio especifico* dentro de Julia de una manera mucho más simple que con otros lenguajes, dado el soporte a *meta-programación* y al tener los tipo de datos `Expr` que permitiría crear nuevos tipos de expresiones dentro de Julia.\n",
    "\n",
    "\n",
    "\n",
    "#### Macros\n",
    "\n",
    "Las macros son algo muy poderoso que tiene Julia, y a diferencia de las funciones que utilizan valores como datos de entrada, las macros usan **expresiones**.\n",
    "\n",
    "Las macros se define con una `@` previo al nombre, veamos algunas macros que vienen por defecto en Julia, primero definiremos una función `factorial`, y ocuparemos distintas macros para obtener información de la misma."
   ]
  },
  {
   "cell_type": "code",
   "execution_count": 61,
   "metadata": {},
   "outputs": [
    {
     "data": {
      "text/plain": [
       "factorial (generic function with 1 method)"
      ]
     },
     "execution_count": 61,
     "metadata": {},
     "output_type": "execute_result"
    }
   ],
   "source": [
    "factorial(n::Int64) = n > 0 ? factorial(n-1) * n : 1"
   ]
  },
  {
   "cell_type": "code",
   "execution_count": 62,
   "metadata": {},
   "outputs": [
    {
     "name": "stdout",
     "output_type": "stream",
     "text": [
      "  0.002834 seconds (576 allocations: 33.929 KiB)\n",
      "elapsed time (ns): 2833867\n",
      "bytes allocated:   34743\n",
      "pool allocs:       576\n"
     ]
    },
    {
     "data": {
      "text/plain": [
       "2432902008176640000"
      ]
     },
     "execution_count": 62,
     "metadata": {},
     "output_type": "execute_result"
    }
   ],
   "source": [
    "@timev factorial(20) #Información del tiempo de ejecución."
   ]
  },
  {
   "cell_type": "code",
   "execution_count": 64,
   "metadata": {},
   "outputs": [
    {
     "data": {
      "text/html": [
       "factorial(n::<b>Int64</b>) at In[61]:1"
      ],
      "text/plain": [
       "factorial(n::Int64) in Main at In[61]:1"
      ]
     },
     "execution_count": 64,
     "metadata": {},
     "output_type": "execute_result"
    }
   ],
   "source": [
    "@which factorial(20) #Estructura de la función."
   ]
  },
  {
   "cell_type": "code",
   "execution_count": 65,
   "metadata": {},
   "outputs": [
    {
     "name": "stdout",
     "output_type": "stream",
     "text": [
      "\t.section\t__TEXT,__text,regular,pure_instructions\n",
      "Filename: In[61]\n",
      "\tpushq\t%rbp\n",
      "\tmovq\t%rsp, %rbp\n",
      "\tpushq\t%rbx\n",
      "\tpushq\t%rax\n",
      "\tmovq\t%rdi, %rbx\n",
      "Source line: 1\n",
      "\ttestq\t%rbx, %rbx\n",
      "\tjle\tL41\n",
      "\tleaq\t-1(%rbx), %rdi\n",
      "\tmovabsq\t$factorial, %rax\n",
      "\tcallq\t*%rax\n",
      "\timulq\t%rbx, %rax\n",
      "\taddq\t$8, %rsp\n",
      "\tpopq\t%rbx\n",
      "\tpopq\t%rbp\n",
      "\tretq\n",
      "L41:\n",
      "\tmovl\t$1, %eax\n",
      "\taddq\t$8, %rsp\n",
      "\tpopq\t%rbx\n",
      "\tpopq\t%rbp\n",
      "\tretq\n",
      "\tnopw\t%cs:(%rax,%rax)\n"
     ]
    }
   ],
   "source": [
    "@code_native factorial(20) #Código nativo generado."
   ]
  },
  {
   "cell_type": "code",
   "execution_count": 66,
   "metadata": {},
   "outputs": [
    {
     "name": "stdout",
     "output_type": "stream",
     "text": [
      "\n",
      "define i64 @\"jlsys_+_60880\"(i64, i64) #0 !dbg !5 {\n",
      "top:\n",
      "  %2 = add i64 %1, %0\n",
      "  ret i64 %2\n",
      "}\n"
     ]
    }
   ],
   "source": [
    "@code_llvm 1+1 #Código LLVM generado."
   ]
  },
  {
   "cell_type": "markdown",
   "metadata": {},
   "source": [
    "Las macros `@code_native` y `@code_llvm` son muy útiles en caso de querer optimizar el código y tener control sobre lo que Julia esta generando[^julia-high]. La primera permite visualizar el código nativo que genera el código de Julia, y la segunda el código que LLVM esta generando. \n",
    "\n",
    "Julia también permite crear nuevas macros personalizadas, supongamos que queremos crear la macro `@special_print` que lo único que hace es recibir una expresión y antes de ejecutarla imprime `begin` y en el termino `end`, la expresión está definida dentro de un bloque `quote`, este bloque permite definir expresiones en multiples lineas:\n"
   ]
  },
  {
   "cell_type": "code",
   "execution_count": 67,
   "metadata": {},
   "outputs": [
    {
     "data": {
      "text/plain": [
       "@special_print (macro with 1 method)"
      ]
     },
     "execution_count": 67,
     "metadata": {},
     "output_type": "execute_result"
    }
   ],
   "source": [
    "macro special_print(ex)\n",
    "         return quote\n",
    "           println(\"begin\")\n",
    "           local val = $ex\n",
    "           println(\"\\nend\")\n",
    "           val\n",
    "         end\n",
    "       end"
   ]
  },
  {
   "cell_type": "code",
   "execution_count": 69,
   "metadata": {},
   "outputs": [
    {
     "name": "stdout",
     "output_type": "stream",
     "text": [
      "begin\n",
      "lnds\n",
      "\n",
      "end\n"
     ]
    }
   ],
   "source": [
    "@special_print(println(\"lnds\"))"
   ]
  },
  {
   "cell_type": "markdown",
   "metadata": {},
   "source": [
    "Una representación visual de esta macro:\n",
    "\n",
    "![macro-expr](macro-expr.png)\n",
    "\n",
    "Esto al igual como mencionamos en el apartado anterior de expresiones, da una gran flexibilidad de Julia, donde utiliza el concepto de *Homoiconicidad* [^homoiconicidad] para poder utilizar macros, trata básicamente que un bloque de código también representa una estructura de datos con tipos de datos primarios del lenguaje en si mismo, o sea la **habilidad de extender el propio lenguaje**.\n",
    "\n",
    "\n",
    "\n",
    "## Características Avanzadas\n",
    "\n",
    "### Paralelismo\n",
    "\n",
    "Julia tiene como fortaleza manejar paralelismo en entornos distribuidos. Al igual que lenguajes como Erlang, Dart, y Elixir, Julia usa un patrón de mensajería entre procesos[^juliadoc], los cuales puede ser locales o remotos.\n",
    "\n",
    "En Julia estos procesos son llamados *workers* y se pueden iniciar con dicho entorno solo abriendo la REPL, `julia -p n` donde n es número de workers a crear. Estos workers son procesos independientes(no thread), por lo cual la memoria no es compartida. Generalmente este `n` hace referencia a los números de núcleos del cpu que quieres utilizar.\n",
    "\n",
    "\n",
    "Cada workers se comunica y se ejecuta a través del protocolo TCP a nivel local. Para ejecutar Julia en un *cluster*, se debe hacer utilizar el siguiente comando `julia --machinefile machines test.jl` donde `--machinefile machines` es el archivo que contiene los nombres de los computadores distribuidos(nodos), y `test.jl` es el script que realiza el cálculo.\n",
    "\n",
    "Para hacer ciclos paralelos en Julia se debe utilizar el macro `@parallel` antes del for, y `(+)` que hace referencia a una reducción. \n",
    "\n",
    "En el siguiente ejemplo se crea un vector columna de una dimensión, con `5x10^10` elementos donde existen dos funciones, las cuales acumularan los datos en simples operaciones matemáticas, una en paralelo y la otra no. Para esto ocuparemos un servidor con las siguientes características:\n",
    "\n",
    "\n",
    "```\n",
    "Architecture:          x86_64\n",
    "CPU op-mode(s):        32-bit, 64-bit\n",
    "Byte Order:            Little Endian\n",
    "CPU(s):                16\n",
    "On-line CPU(s) list:   0-15\n",
    "Thread(s) per core:    1\n",
    "Core(s) per socket:    16\n",
    "Socket(s):             1\n",
    "NUMA node(s):          1\n",
    "Vendor ID:             GenuineIntel\n",
    "CPU family:            6\n",
    "Model:                 79\n",
    "Model name:            Intel(R) Xeon(R) CPU E5-2673 v4 @ 2.30GHz\n",
    "Stepping:              1\n",
    "CPU MHz:               2294.687\n",
    "BogoMIPS:              4589.37\n",
    "Hypervisor vendor:     Microsoft\n",
    "Virtualization type:   full\n",
    "L1d cache:             32K\n",
    "L1i cache:             32K\n",
    "L2 cache:              256K\n",
    "L3 cache:              51200K\n",
    "NUMA node0 CPU(s):     0-15\n",
    "```\n",
    "Utilizaremos el package `BenchmarkTools`, que sirve para hacer benchmark sobre una función utilizando la macro `@btime`, ejecutándola varias veces y sacando el promedio del tiempo de ejecución(esto hace más preciso el benchmark)."
   ]
  },
  {
   "cell_type": "code",
   "execution_count": 19,
   "metadata": {},
   "outputs": [
    {
     "name": "stdout",
     "output_type": "stream",
     "text": [
      "  6.935 ms (198985 allocations: 4.18 MiB)\n"
     ]
    },
    {
     "data": {
      "text/plain": [
       "1.2649323430414048e8"
      ]
     },
     "execution_count": 19,
     "metadata": {},
     "output_type": "execute_result"
    }
   ],
   "source": [
    "using BenchmarkTools, Compat\n",
    "\n",
    "function getdata(mode)\n",
    "    if mode == \"parallel\"\n",
    "        data = SharedArray{Float64, 1}(50000)\n",
    "        @parallel for i in 1:length(data)\n",
    "            data[i] = i / 10.0\n",
    "        end\n",
    "    elseif mode == \"no-parallel\"\n",
    "        data = Array{Float64, 1}(50000)\n",
    "        for i in 1:length(data)\n",
    "            data[i] = i / 10.0\n",
    "        end\n",
    "    end\n",
    "    data\n",
    "end\n",
    "\n",
    "function parallel(data)\n",
    "    acum =  @parallel (+) for i = 1:length(data)\n",
    "        data[i] +  2 * sqrt(i) / 10.0\n",
    "    end\n",
    "end\n",
    "\n",
    "function no_parallel(data)\n",
    "    acum::Float64 = 0.0\n",
    "    for i = 1:length(data)\n",
    "       acum = acum + data[i] + 2 * sqrt(i) / 10.0\n",
    "    end\n",
    "    acum\n",
    "end\n",
    "\n",
    "input = \"no-parallel\"\n",
    "if input == \"parallel\"\n",
    "    rmprocs(workers())\n",
    "    addprocs(3)\n",
    "    @btime begin\n",
    "        data = getdata(input)\n",
    "        parallel(data) \n",
    "    end\n",
    "else\n",
    "    @btime begin\n",
    "        data = getdata(input)\n",
    "        no_parallel(data)\n",
    "    end\n",
    "end\n",
    "\n",
    "\n",
    "#@btime no_parallel(data)\n",
    "\n",
    "\n"
   ]
  },
  {
   "cell_type": "markdown",
   "metadata": {},
   "source": [
    "\n",
    "Resultados del bechmark entre la función `parallel(data)` y `no_parallel(data)`, demuestra lo esperado que la versión paralela sea más rápida, también cabe señalar que en el caso de la función `getdata(mode)` la versión paralela es muy superior en tiempo de ejecución, esto porque usa una estructura de dato `SharedArray` diseñada para trabajar en entorno de múltiples procesos de memoria compartida, como sucede en este caso. Los resultados:\n",
    "```\n",
    "cc@vm-app3:~/test_julia$ julia -p 16 --optimize=3 --compile=yes --precompiled=yes test.jl parallel\n",
    " 1.573 s (2398 allocations: 194.28 KiB)\n",
    "   \n",
    "cc@vm-app3:~/test_julia$ julia --optimize=3 --compile=yes --precompiled=yes test.jl no-parallel\n",
    "  2.454 s (0 allocations: 0 bytes)\n",
    "```\n",
    "\n",
    "\n",
    "### Sistema de Tipos\n",
    "\n",
    "Después de ver algunas características de Julia, podemos apreciar que el sistema de tipo es muy relevante, nos permite bastante flexibilidad al momento de programar. \n",
    "\n",
    "Para encapsular variables existen las `struct`, las cuales nos da la posibilidad de agregar restricciones de tipos al momento de crear el objeto:"
   ]
  },
  {
   "cell_type": "code",
   "execution_count": 21,
   "metadata": {},
   "outputs": [],
   "source": [
    "struct Test\n",
    "      x::Int\n",
    "      y::Int\n",
    "      z::Int\n",
    "  end"
   ]
  },
  {
   "cell_type": "code",
   "execution_count": 22,
   "metadata": {},
   "outputs": [
    {
     "data": {
      "text/plain": [
       "Test(1, 2, 3)"
      ]
     },
     "execution_count": 22,
     "metadata": {},
     "output_type": "execute_result"
    }
   ],
   "source": [
    "t = Test(1, 2, 3)"
   ]
  },
  {
   "cell_type": "code",
   "execution_count": 23,
   "metadata": {},
   "outputs": [
    {
     "ename": "LoadError",
     "evalue": "\u001b[91mInexactError()\u001b[39m",
     "output_type": "error",
     "traceback": [
      "\u001b[91mInexactError()\u001b[39m",
      "",
      "Stacktrace:",
      " [1] \u001b[1mconvert\u001b[22m\u001b[22m\u001b[1m(\u001b[22m\u001b[22m::Type{Int64}, ::Float64\u001b[1m)\u001b[22m\u001b[22m at \u001b[1m./float.jl:679\u001b[22m\u001b[22m",
      " [2] \u001b[1mTest\u001b[22m\u001b[22m\u001b[1m(\u001b[22m\u001b[22m::Int64, ::Int64, ::Float64\u001b[1m)\u001b[22m\u001b[22m at \u001b[1m./In[21]:2\u001b[22m\u001b[22m",
      " [3] \u001b[1minclude_string\u001b[22m\u001b[22m\u001b[1m(\u001b[22m\u001b[22m::String, ::String\u001b[1m)\u001b[22m\u001b[22m at \u001b[1m./loading.jl:522\u001b[22m\u001b[22m"
     ]
    }
   ],
   "source": [
    "t = Test(1, 2, 3.5) #Se intenta ingresar un valor Float."
   ]
  },
  {
   "cell_type": "code",
   "execution_count": 24,
   "metadata": {},
   "outputs": [
    {
     "ename": "LoadError",
     "evalue": "\u001b[91mMethodError: Cannot `convert` an object of type String to an object of type Int64\nThis may have arisen from a call to the constructor Int64(...),\nsince type constructors fall back to convert methods.\u001b[39m",
     "output_type": "error",
     "traceback": [
      "\u001b[91mMethodError: Cannot `convert` an object of type String to an object of type Int64\nThis may have arisen from a call to the constructor Int64(...),\nsince type constructors fall back to convert methods.\u001b[39m",
      "",
      "Stacktrace:",
      " [1] \u001b[1mTest\u001b[22m\u001b[22m\u001b[1m(\u001b[22m\u001b[22m::Int64, ::Int64, ::String\u001b[1m)\u001b[22m\u001b[22m at \u001b[1m./In[21]:2\u001b[22m\u001b[22m",
      " [2] \u001b[1minclude_string\u001b[22m\u001b[22m\u001b[1m(\u001b[22m\u001b[22m::String, ::String\u001b[1m)\u001b[22m\u001b[22m at \u001b[1m./loading.jl:522\u001b[22m\u001b[22m"
     ]
    }
   ],
   "source": [
    "t = Test(1, 2, \"hi\") #Se intenta ingresar un valor String."
   ]
  },
  {
   "cell_type": "markdown",
   "metadata": {},
   "source": [
    "Como se puede apreciar en el ejemplo anterior, el compilador reclama cuando se intenta violar una restricción de tipo. \n",
    "\n",
    "Otro dato interesante es que se pueda obtener la información de los atributos de una `struct` con la función `fieldnames`:"
   ]
  },
  {
   "cell_type": "code",
   "execution_count": 25,
   "metadata": {},
   "outputs": [
    {
     "data": {
      "text/plain": [
       "Test(1, 2, 3)"
      ]
     },
     "execution_count": 25,
     "metadata": {},
     "output_type": "execute_result"
    }
   ],
   "source": [
    "t = Test(1, 2, 3)"
   ]
  },
  {
   "cell_type": "code",
   "execution_count": 26,
   "metadata": {},
   "outputs": [
    {
     "data": {
      "text/plain": [
       "3-element Array{Symbol,1}:\n",
       " :x\n",
       " :y\n",
       " :z"
      ]
     },
     "execution_count": 26,
     "metadata": {},
     "output_type": "execute_result"
    }
   ],
   "source": [
    "fieldnames(t)"
   ]
  },
  {
   "cell_type": "code",
   "execution_count": 30,
   "metadata": {},
   "outputs": [
    {
     "data": {
      "text/plain": [
       "(1, 2, 3)"
      ]
     },
     "execution_count": 30,
     "metadata": {},
     "output_type": "execute_result"
    }
   ],
   "source": [
    "t.x, t.y, t.z"
   ]
  },
  {
   "cell_type": "markdown",
   "metadata": {},
   "source": [
    "También se puede definir una `struct` con *tipos compuestos paramétrico*, algo probablemente similar a lo que se conoce como *programación genérica*:"
   ]
  },
  {
   "cell_type": "code",
   "execution_count": 31,
   "metadata": {},
   "outputs": [],
   "source": [
    "struct Pair{T}\n",
    "  p1::T\n",
    "  p2::T\n",
    "end"
   ]
  },
  {
   "cell_type": "code",
   "execution_count": 32,
   "metadata": {},
   "outputs": [
    {
     "data": {
      "text/plain": [
       "Pair{Int64}(1, 2)"
      ]
     },
     "execution_count": 32,
     "metadata": {},
     "output_type": "execute_result"
    }
   ],
   "source": [
    "Pair(1,2)"
   ]
  },
  {
   "cell_type": "code",
   "execution_count": 33,
   "metadata": {},
   "outputs": [
    {
     "ename": "LoadError",
     "evalue": "\u001b[91mMethodError: no method matching Pair(::Int64, ::Float64)\u001b[0m\nClosest candidates are:\n  Pair(::T, \u001b[91m::T\u001b[39m) where T at In[31]:2\u001b[39m",
     "output_type": "error",
     "traceback": [
      "\u001b[91mMethodError: no method matching Pair(::Int64, ::Float64)\u001b[0m\nClosest candidates are:\n  Pair(::T, \u001b[91m::T\u001b[39m) where T at In[31]:2\u001b[39m",
      "",
      "Stacktrace:",
      " [1] \u001b[1minclude_string\u001b[22m\u001b[22m\u001b[1m(\u001b[22m\u001b[22m::String, ::String\u001b[1m)\u001b[22m\u001b[22m at \u001b[1m./loading.jl:522\u001b[22m\u001b[22m"
     ]
    }
   ],
   "source": [
    "Pair(1,2.0)"
   ]
  },
  {
   "cell_type": "markdown",
   "metadata": {},
   "source": [
    "Una `struct` puede tener múltiples tipos paramétrico:"
   ]
  },
  {
   "cell_type": "code",
   "execution_count": 34,
   "metadata": {},
   "outputs": [],
   "source": [
    "struct Pair2{T, T2}\n",
    "  p1::T\n",
    "  p2::T2\n",
    "end"
   ]
  },
  {
   "cell_type": "code",
   "execution_count": 35,
   "metadata": {},
   "outputs": [
    {
     "data": {
      "text/plain": [
       "Pair2{Int64,String}(1, \"hi\")"
      ]
     },
     "execution_count": 35,
     "metadata": {},
     "output_type": "execute_result"
    }
   ],
   "source": [
    "Pair2(1, \"hi\")"
   ]
  },
  {
   "cell_type": "markdown",
   "metadata": {},
   "source": [
    "Ahora para crear una restricción desde un sub-tipo, se puede crear un `abstract type` para definir un nuevo tipo `abstract type Point{T<:Real, T2<:Real} end` donde el símbolo `<:` significa `T es sub-tipo de Real`, entonces cualquier estructura que implemente `Point` podrá solo inicializarse con valores que sea sub-tipo de `Real`, por ejemplo:\n"
   ]
  },
  {
   "cell_type": "code",
   "execution_count": 36,
   "metadata": {},
   "outputs": [],
   "source": [
    "abstract type Point{T<:Real, T2<:Real} end"
   ]
  },
  {
   "cell_type": "code",
   "execution_count": 38,
   "metadata": {},
   "outputs": [],
   "source": [
    "struct Pair_A{T, T2} <: Point{T, T2}\n",
    "   x::T\n",
    "   y::T2\n",
    "end\n"
   ]
  },
  {
   "cell_type": "code",
   "execution_count": 39,
   "metadata": {},
   "outputs": [
    {
     "data": {
      "text/plain": [
       "true"
      ]
     },
     "execution_count": 39,
     "metadata": {},
     "output_type": "execute_result"
    }
   ],
   "source": [
    "Int <: Real"
   ]
  },
  {
   "cell_type": "code",
   "execution_count": 40,
   "metadata": {},
   "outputs": [
    {
     "data": {
      "text/plain": [
       "Pair_A{Int64,Int64}(1, 2)"
      ]
     },
     "execution_count": 40,
     "metadata": {},
     "output_type": "execute_result"
    }
   ],
   "source": [
    "Pair_A(1, 2)"
   ]
  },
  {
   "cell_type": "code",
   "execution_count": 41,
   "metadata": {},
   "outputs": [
    {
     "ename": "LoadError",
     "evalue": "\u001b[91mTypeError: Point: in T, expected T<:Real, got Type{String}\u001b[39m",
     "output_type": "error",
     "traceback": [
      "\u001b[91mTypeError: Point: in T, expected T<:Real, got Type{String}\u001b[39m",
      "",
      "Stacktrace:",
      " [1] \u001b[1mPair_A\u001b[22m\u001b[22m\u001b[1m(\u001b[22m\u001b[22m::String, ::Int64\u001b[1m)\u001b[22m\u001b[22m at \u001b[1m./In[38]:2\u001b[22m\u001b[22m",
      " [2] \u001b[1minclude_string\u001b[22m\u001b[22m\u001b[1m(\u001b[22m\u001b[22m::String, ::String\u001b[1m)\u001b[22m\u001b[22m at \u001b[1m./loading.jl:522\u001b[22m\u001b[22m"
     ]
    }
   ],
   "source": [
    "Pair_A(\"hi\", 2)"
   ]
  },
  {
   "cell_type": "markdown",
   "metadata": {},
   "source": [
    "En el código superior ocurre un error al intentar crear un objeto `Pair` con una variable del tipo `String`, dado que `String <: Real` es falso, porque `String` no es sub-tipo de `Real`."
   ]
  },
  {
   "cell_type": "markdown",
   "metadata": {},
   "source": [
    "## Benchmark - Julia vs C++1x\n",
    "\n",
    "### Multiplicación de Matrices\n",
    "\n",
    "El siguiente benchmark(prueba de rendimiento) multiplicaremos dos matrices de `2000x2000` que contienen valores `Ìnt64`, este es un ejemplo típico para comprobar la velocidad de computo entre diferentes lenguajes, no utilizaremos bibliotecas externas.\n",
    "\n",
    "### Un nucleo \n",
    "\n",
    "*\tEn C++ usaremos `gcc 4.6` con optimización en la compilación(`-O3`). \n",
    "*\tEn Julia usaremos la versión 0.6.2 del lenguaje.\n",
    "\n",
    "#### C++\n",
    "\n",
    "Compilación: \n",
    "\n",
    "- `g++  -std=c++11 -O3 -o mult_matrix mult_matrix.cpp`\n",
    "- `time ./mult_matrix`\n",
    "\n",
    "```\n",
    "//Archivo: mult_matrix.cpp\n",
    "\n",
    "#include <iostream>\n",
    "#include <vector>\n",
    "\n",
    "using namespace std;\n",
    "\n",
    "int main(){\n",
    "\n",
    "    int const size = 2000;\n",
    "    vector<vector<int>> matrix1(size, vector<int>(size));\n",
    "    vector<vector<int>> matrix2(size, vector<int>(size));\n",
    "    vector<vector<int>> matrix3(size, vector<int>(size));\n",
    "\n",
    "    for (int i = 0; i < size; i++)\n",
    "    {\n",
    "       for (int j = 0; j < size; j++)\n",
    "       {\n",
    "            matrix1[i][j] = i+j;\n",
    "            matrix2[i][j] = i-j;\n",
    "       }\n",
    "    }\n",
    "    for (int i = 0; i < size; i++)\n",
    "    {\n",
    "       for (int j = 0; j < size; j++)\n",
    "       {\n",
    "          matrix3[i][j] = 0;\n",
    "          for (int k = 0; k < size; k++)\n",
    "          \tmatrix3[i][j] += matrix1[i][k] * matrix2[k][j];\n",
    "       }\n",
    "\t}\n",
    "}\n",
    "```\n",
    "\n",
    "#### Julia\n",
    "\n",
    "Compilación: \n",
    "\n",
    "- `time julia mult_matrix.jl`\n",
    "\n",
    "```\n",
    "#Archivo mult_matrix.jl\n",
    "\n",
    "function calculation(size::Int64)\n",
    "    matrix1 = zeros(Int, size, size)\n",
    "    matrix2 = zeros(Int, size, size)\n",
    "    matrix3 = zeros(Int, size, size)\n",
    "    for i in 1:size\n",
    "\t    @inbounds for j in 1:size\n",
    "            matrix1[i,j] = i+j\n",
    "            matrix2[i,j] = i-j\n",
    "\t    end\n",
    "    end\n",
    "    for i in 1:size\n",
    "        for j in 1:size\n",
    "            matrix3[i,j] = 0\n",
    "            @inbounds for k in 1:size\n",
    "                matrix3[i,j] += matrix1[i,k] * matrix2[k,j]\n",
    "            end\n",
    "        end\n",
    "    end\n",
    "end\n",
    "\n",
    "calculation(2000)\n",
    "```\n",
    "\n",
    "Algunas cosas interesante del código de Julia es que utilizando la macro `@inbounds` le decíamos al compilador que no realice comprobaciones en el indices de los arreglos, por ende el código assembly generado es menor(esto lo puedes comprobar con la macro `@code_native`), claramente se debe utilizar con cuidado. Por otra parte la función `zeros(:type, :row_dim, :col_dim)`, nos permite crear una matriz con un tipo de dato especifico y con el tamaño de la misma.\n",
    "\n",
    "#### Resultados\n",
    "\n",
    "| Lenguaje          |Tiempo(segundos)|\n",
    "| ----------------- |:--------------:|\n",
    "| C++/gcc 4.6\t\t\t|33.252 \t\t  \t| \n",
    "| Julia 0.6.2       |16.059         \t| \n",
    "\n",
    "![benchmark no-paralelo](benchmark-no-paralelo.png)\n",
    "\n",
    "### Multiples núcleos\n",
    "\n",
    "\n",
    "Para esto, usaremos C++ con OpenMP(una biblioteca para paralelismo de memoria compartida)[^openmp] y al igual que la prueba anterior Julia 0.6.2, el servidor de prueba es el mismo que mencionamos previamente en la sección de **paralelismo**, un servidor Intel(R) Xeon(R) de 16 núcleos cpu.\n",
    "\n",
    "#### C++\n",
    "\n",
    "Compilación: \n",
    "\n",
    "- `g++ -fopenmp -std=c++11 -O3 -o mult_matrix_parallel mult_matrix_parallel.cpp`\n",
    "\n",
    "```\n",
    "//Archivo: mult_matrix_parallel.cpp\n",
    "#include <iostream>\n",
    "#include <vector>\n",
    "\n",
    "using namespace std;\n",
    "\n",
    "int main(){\n",
    "\n",
    "\tint const size = 2000;\n",
    "\tvector<vector<long>> Mat1(size, vector<long>(size));\n",
    "\tvector<vector<long>> Mat2(size, vector<long>(size));\n",
    "\tvector<vector<long>> Mat3(size, vector<long>(size));\n",
    "\n",
    "\t#pragma omp parallel\n",
    "\t{\n",
    "\t\t#pragma omp for\n",
    "\t\tfor (int i = 0; i < size; i++)\n",
    "\t   \t{\n",
    "       \tfor (int j = 0; j < size; j++)\n",
    "\t       {\n",
    "\t\t\t\tMat1[i][j] = (i+j)+2;\n",
    "\t\t\t\tMat2[i][j] = (i-j)+2;\n",
    "\t\t   }\n",
    "\t\t}\n",
    "\t\t#pragma omp for\n",
    "\t\tfor (int i = 0; i < size; i++)\n",
    "\t\t{\n",
    "\t\t   for (int j = 0; j < size; j++)\n",
    "\t\t   {\n",
    "\t\t      Mat3[i][j] = 0;\n",
    "\t\t      for (int k = 0; k < size; k++)\n",
    "\t\t      \t\tMat3[i][j] += Mat1[i][k] * Mat2[k][j];\n",
    "\t\t\t}\n",
    "\t\t}\n",
    "\t}\n",
    "}\n",
    "```\n",
    "\n",
    "#### Julia\n",
    "\n",
    "Compilación: \n",
    "\n",
    "- `julia -p 16 -O3 mult_matrix_parallel.jl`\n",
    "\n",
    "```\n",
    "#//Archivo: mult_matrix_parallel.jl\n",
    "using BenchmarkTools, Compat\n",
    "\n",
    "function calculation(size::Int64)\n",
    "\n",
    "\tmatrix1 = SharedArray{Int, 2}(size, size)\n",
    "\tmatrix2 = SharedArray{Int, 2}(size, size)\n",
    "\tmatrix3 = SharedArray{Int, 2}(size, size)\n",
    "\n",
    "\t@sync @parallel for i in 1:size\n",
    "\t\t@inbounds for j in 1:size\n",
    "\t\t\tmatrix1[i,j] = i+j\n",
    "\t\t\tmatrix2[i,j] = i-j\n",
    "\t\tend\n",
    "\tend\n",
    "\t@sync @parallel for i in 1:size\n",
    "\t   for j in 1:size\n",
    "\t   \t\tmatrix3[i,j] = 0\n",
    "\t        @inbounds for k in 1:size\n",
    "            \tmatrix3[i,j] += matrix1[i,k] * matrix2[k,j]\n",
    "\t    \tend\n",
    "\t    end\n",
    "\tend\n",
    "end\n",
    "\n",
    "size = 2000\n",
    "@btime calculation(size)\n",
    "```\n",
    "\n",
    "Algo importante a mencionar del código superior de Julia, es que se agrega la macro `@sync` previo al `@parallel` para obligar a esperar que se termine todo el computo en paralelo para continuar al siguiente bloque.\n",
    "\n",
    "### Resultados\n",
    "\n",
    "| Lenguaje          |Tiempo(segundos)|\n",
    "| ----------------- |:--------------:|\n",
    "| C++/openmp/gcc 4.6|3.600\t\t    \t| \n",
    "| Julia 0.6         |5.938          \t| \n",
    "\n",
    "![benchmark paralelo](benchmark-paralelo.png)\n",
    "\n",
    "\n",
    "C++ y OpenMP superan a Julia en esta prueba, ahora, **no deja de ser sorprendente que la diferencia no es tan grande**. \n",
    "\n",
    "**Nota:** En el caso de C++/OpenMP probablemente exista una manera de hacer más eficiente el código.\n",
    "\n",
    "## Conclusión\n",
    "\n",
    "Julia representa una interesante propuesta para todo lo referente a ciencia de datos, y a pesar de que es nuevo(aún no esta en su versión 1.0), no deja de sorprender el rendimiento comparado a C++. A pesar de eso, C++ es un lenguaje para el  desarrollo de sistemas(bajo nivel y de alto rendimiento), y Julia no esta enfocado en competir en esa área, sino más bien en todo lo referente al análisis de datos.\n",
    "\n",
    "Para terminar, dejo algunas ventajas y desventajas que encontré del lenguaje:\n",
    "\n",
    "### Ventajas\n",
    "\n",
    "*\tPosee las ventajas de un lenguaje dinámico con la velocidad de computo de un lenguaje compilado.\n",
    "*  Interesante sistema de tipos y meta-programación.\n",
    "* \tIncorpora facilidades para manejar operaciones matemáticas, lo cual permite una fácil adopción para *científicos de datos*, sin sacrificar la velocidad de computo.\n",
    "\n",
    "### Desventajas\n",
    "\n",
    "*\tComparado a C++ ocupa más ram, casi el doble en algunos casos. Esto podría ser un problema si se quiere utilizar Julia en sistemas embebidos(empíricamente no lo comprobé).\n",
    "* \tLa comunidad es aún pequeña si le compara a lenguajes ya establecidos como Python. Esto podria ser solo una desventaja temporal.\n",
    "*  El sistema de instalación de paquetes aún no es robusto como otros, tales como `pip` y `npm`.\n",
    "\n",
    "\n",
    "\n",
    "## Referencias\n",
    "\n",
    "[^julia-high]: [Julia: High Performance Programming. Ivo Balbaert, Avik Sengupta, Malcolm Sherrington](https://www.amazon.com/Julia-Performance-Programming-Ivo-Balbaert-ebook/dp/B01MXS4IPT)\n",
    "[^julia-mast]: [Mastering Julia. Malcolm Sherrington](https://www.amazon.com/Mastering-Julia-Contemporary-Challenges-Programming-ebook/dp/B010T266RY/ref=sr_1_1?s=digital-text&ie=UTF8&qid=1521246511&sr=1-1&keywords=mastering+julia)\n",
    "[^homoiconicidad]: [https://es.wikipedia.org/wiki/Homoiconicidad]()\n",
    "[^openmp]: [What is OpenMP?](https://www.dartmouth.edu/~rc/classes/intro_openmp)\n",
    "[^juliadoc]:\t[https://docs.julialang.org/en/stable/manual/parallel-computing]()\n",
    "[^jit]: [https://es.wikipedia.org/wiki/M%C3%A9todo_justo_a_tiempo]()\n",
    "[^llvm]: [https://es.wikipedia.org/wiki/LLVM]()\n",
    "[^inter-php]: [http://php.net/manual/es/language.types.string.php]()\n",
    "[^fun-ord]: [https://es.wikipedia.org/wiki/Funci%C3%B3n_de_orden_superior]()\n",
    "[^single-dis]: [https://en.wikipedia.org/wiki/Dynamic_dispatch#Single_and_multiple_dispatch]()\n",
    "[^multiple-dis]: [https://en.wikipedia.org/wiki/Multiple_dispatch]()"
   ]
  },
  {
   "cell_type": "code",
   "execution_count": null,
   "metadata": {},
   "outputs": [],
   "source": []
  }
 ],
 "metadata": {
  "kernelspec": {
   "display_name": "Julia 0.6.2",
   "language": "julia",
   "name": "julia-0.6"
  },
  "language_info": {
   "file_extension": ".jl",
   "mimetype": "application/julia",
   "name": "julia",
   "version": "0.6.2"
  }
 },
 "nbformat": 4,
 "nbformat_minor": 2
}
